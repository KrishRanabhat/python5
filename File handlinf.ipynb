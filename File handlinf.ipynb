{
 "cells": [
  {
   "cell_type": "code",
   "execution_count": 38,
   "metadata": {},
   "outputs": [],
   "source": [
    "## Writing a file\n",
    "\n",
    "file = open(\"examples.txt\", \"w\")\n",
    "file.write(\"Hello, World\")\n",
    "file.close()\n",
    "\n",
    "file = open(\"examples.txt\", \"a\")\n",
    "file.write(\"\\nAdding more text!\")\n",
    "file.close()"
   ]
  },
  {
   "cell_type": "code",
   "execution_count": 39,
   "metadata": {},
   "outputs": [
    {
     "name": "stdout",
     "output_type": "stream",
     "text": [
      "Hello, World\n",
      "Adding more text!\n",
      "Hello, World\n",
      "Adding more text!\n"
     ]
    }
   ],
   "source": [
    "# Reading a file \n",
    "\n",
    "file = open(\"examples.txt\", \"r\")\n",
    "content = file.read()\n",
    "print(content)\n",
    "file.close()\n",
    "\n",
    "file = open(\"examples.txt\", \"r\")\n",
    "for line in file:\n",
    "     print(line.strip())   #Removes extra spaces/newlines\n",
    "file.close()"
   ]
  },
  {
   "cell_type": "code",
   "execution_count": null,
   "metadata": {},
   "outputs": [],
   "source": [
    " # Wrting Json\n",
    "\n",
    "import json\n",
    "\n",
    "data = {\"name\": \"John\", \"Age\": 30}\n",
    "with open(\"data.json\", \"w\")as file:  # Save dictionary to JSON\n",
    "     json.dump(data, file)"
   ]
  },
  {
   "cell_type": "code",
   "execution_count": 31,
   "metadata": {},
   "outputs": [
    {
     "name": "stdout",
     "output_type": "stream",
     "text": [
      "{'name': 'John', 'Age': 30}\n"
     ]
    }
   ],
   "source": [
    "#Reading JSON\n",
    "\n",
    "with open(\"data.json\", \"r\") as file:\n",
    "     data = json.load(file)  #Load JSON as dictionary\n",
    "     print(data)"
   ]
  },
  {
   "cell_type": "code",
   "execution_count": 40,
   "metadata": {},
   "outputs": [],
   "source": [
    "import csv\n",
    "\n",
    "data = [[\"Name\", \"Age\"], [\"Alice\", 25], [\"Bob\", 30]]\n",
    "with open(\"data.csv\", \"w\", newline=\"\") as file:\n",
    "     writer = csv.writer(file)\n",
    "     writer.writerows(data)\n",
    "        "
   ]
  },
  {
   "cell_type": "code",
   "execution_count": 41,
   "metadata": {},
   "outputs": [
    {
     "name": "stdout",
     "output_type": "stream",
     "text": [
      "['Name', 'Age']\n",
      "['Alice', '25']\n",
      "['Bob', '30']\n"
     ]
    }
   ],
   "source": [
    "# Reading CSV\n",
    "\n",
    "with open(\"data.csv\", \"r\") as file:\n",
    "     reader = csv.reader(file)\n",
    "     for row in reader:\n",
    "          print(row)"
   ]
  },
  {
   "cell_type": "markdown",
   "metadata": {},
   "source": [
    "# Modules\n"
   ]
  },
  {
   "cell_type": "code",
   "execution_count": 45,
   "metadata": {},
   "outputs": [
    {
     "name": "stdout",
     "output_type": "stream",
     "text": [
      "Square root of 16 is: 4.0\n",
      "Value of PI is: 3.141592653589793\n"
     ]
    }
   ],
   "source": [
    "import math \n",
    "print(\"Square root of 16 is:\", math.sqrt(16))\n",
    "print(\"Value of PI is:\", math.pi)"
   ]
  },
  {
   "cell_type": "code",
   "execution_count": 233,
   "metadata": {},
   "outputs": [
    {
     "name": "stdout",
     "output_type": "stream",
     "text": [
      "Current Date and time 2024-12-17 11:11:01.134013\n"
     ]
    }
   ],
   "source": [
    "from datetime import datetime\n",
    "now = datetime.now()\n",
    "print(\"Current Date and time\", now) "
   ]
  },
  {
   "cell_type": "code",
   "execution_count": 1,
   "metadata": {},
   "outputs": [
    {
     "name": "stdout",
     "output_type": "stream",
     "text": [
      "Numpy array: [1 2 3 4]\n",
      "Array mean: 2.5\n"
     ]
    }
   ],
   "source": [
    "import numpy as np\n",
    "array = np.array([1, 2, 3, 4])\n",
    "print(\"Numpy array:\", array)\n",
    "print(\"Array mean:\", np.mean(array))"
   ]
  },
  {
   "cell_type": "code",
   "execution_count": 2,
   "metadata": {},
   "outputs": [
    {
     "name": "stdout",
     "output_type": "stream",
     "text": [
      "    Name  Age\n",
      "0  Alice   25\n",
      "1    Bob   30\n"
     ]
    }
   ],
   "source": [
    "import pandas as pd \n",
    "data = {'Name': ['Alice', 'Bob'], 'Age': [25,30]}\n",
    "df = pd.DataFrame(data)\n",
    "print(df)"
   ]
  },
  {
   "cell_type": "code",
   "execution_count": 4,
   "metadata": {},
   "outputs": [
    {
     "data": {
      "image/png": "[encoded data removed]",
      "text/plain": [
       "<Figure size 640x480 with 1 Axes>"
      ]
     },
     "metadata": {},
     "output_type": "display_data"
    }
   ],
   "source": [
    "import matplotlib.pyplot as plt\n",
    "plt.plot([1, 2, 3], [4, 5, 6])\n",
    "plt.title(\"Simple plot\")\n",
    "plt.show()"
   ]
  },
  {
   "cell_type": "markdown",
   "metadata": {},
   "source": [
    "# Creating and Importing custom modules"
   ]
  },
  {
   "cell_type": "code",
   "execution_count": 38,
   "metadata": {},
   "outputs": [],
   "source": [
    "# Save the following code as 'module.py' in the same directory as this notebook.\n",
    "\n",
    "def display(name):\n",
    "     return f\"Hello, {name}!\" "
   ]
  },
  {
   "cell_type": "code",
   "execution_count": 37,
   "metadata": {},
   "outputs": [
    {
     "name": "stdout",
     "output_type": "stream",
     "text": [
      "Hello, World!\n"
     ]
    }
   ],
   "source": [
    "from module import display \n",
    "print(display(\"World\"))"
   ]
  },
  {
   "cell_type": "code",
   "execution_count": 25,
   "metadata": {},
   "outputs": [
    {
     "data": {
      "text/plain": [
       "array([10, 20, 30, 40])"
      ]
     },
     "execution_count": 25,
     "metadata": {},
     "output_type": "execute_result"
    }
   ],
   "source": [
    "import numpy as np\n",
    "n1 = np.array([10,20,30,40])\n",
    "n1"
   ]
  },
  {
   "cell_type": "code",
   "execution_count": 46,
   "metadata": {},
   "outputs": [
    {
     "data": {
      "text/plain": [
       "numpy.ndarray"
      ]
     },
     "execution_count": 46,
     "metadata": {},
     "output_type": "execute_result"
    }
   ],
   "source": [
    "type(n1)"
   ]
  },
  {
   "cell_type": "code",
   "execution_count": 43,
   "metadata": {},
   "outputs": [
    {
     "data": {
      "text/plain": [
       "array([[10, 20, 30],\n",
       "       [10, 80, 90],\n",
       "       [30, 50, 80]])"
      ]
     },
     "execution_count": 43,
     "metadata": {},
     "output_type": "execute_result"
    }
   ],
   "source": [
    "# Multi dimensional numpy\n",
    "\n",
    "import numpy as np\n",
    "n2 = np.array([[10,20,30], [10,80,90], [30,50,80]])\n",
    "n2"
   ]
  },
  {
   "cell_type": "code",
   "execution_count": 47,
   "metadata": {},
   "outputs": [
    {
     "data": {
      "text/plain": [
       "(3, 3)"
      ]
     },
     "execution_count": 47,
     "metadata": {},
     "output_type": "execute_result"
    }
   ],
   "source": [
    "n2.shape"
   ]
  },
  {
   "cell_type": "markdown",
   "metadata": {},
   "source": [
    "# initilize Numpy aaray with zeros\n"
   ]
  },
  {
   "cell_type": "code",
   "execution_count": 48,
   "metadata": {},
   "outputs": [],
   "source": [
    "n3 = np.zeros((2,3))"
   ]
  },
  {
   "cell_type": "code",
   "execution_count": 49,
   "metadata": {},
   "outputs": [
    {
     "data": {
      "text/plain": [
       "array([[0., 0., 0.],\n",
       "       [0., 0., 0.]])"
      ]
     },
     "execution_count": 49,
     "metadata": {},
     "output_type": "execute_result"
    }
   ],
   "source": [
    "n3"
   ]
  },
  {
   "cell_type": "code",
   "execution_count": 54,
   "metadata": {},
   "outputs": [],
   "source": [
    "n4 = np.full((3,3),9)"
   ]
  },
  {
   "cell_type": "code",
   "execution_count": 55,
   "metadata": {},
   "outputs": [
    {
     "data": {
      "text/plain": [
       "array([[9, 9, 9],\n",
       "       [9, 9, 9],\n",
       "       [9, 9, 9]])"
      ]
     },
     "execution_count": 55,
     "metadata": {},
     "output_type": "execute_result"
    }
   ],
   "source": [
    "n4"
   ]
  },
  {
   "cell_type": "code",
   "execution_count": 50,
   "metadata": {},
   "outputs": [],
   "source": [
    "n5 = np.arange(10,20)\n"
   ]
  },
  {
   "cell_type": "code",
   "execution_count": 51,
   "metadata": {},
   "outputs": [
    {
     "data": {
      "text/plain": [
       "array([10, 11, 12, 13, 14, 15, 16, 17, 18, 19])"
      ]
     },
     "execution_count": 51,
     "metadata": {},
     "output_type": "execute_result"
    }
   ],
   "source": [
    "n5"
   ]
  },
  {
   "cell_type": "code",
   "execution_count": null,
   "metadata": {},
   "outputs": [],
   "source": []
  }
 ],
 "metadata": {
  "kernelspec": {
   "display_name": "Python 3",
   "language": "python",
   "name": "python3"
  },
  "language_info": {
   "codemirror_mode": {
    "name": "ipython",
    "version": 3
   },
   "file_extension": ".py",
   "mimetype": "text/x-python",
   "name": "python",
   "nbconvert_exporter": "python",
   "pygments_lexer": "ipython3",
   "version": "3.13.1"
  }
 },
 "nbformat": 4,
 "nbformat_minor": 2
}
