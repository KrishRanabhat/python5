{
 "cells": [
  {
   "cell_type": "code",
   "execution_count": 4,
   "metadata": {},
   "outputs": [
    {
     "name": "stdout",
     "output_type": "stream",
     "text": [
      "10\n",
      "Name: Krish\n"
     ]
    }
   ],
   "source": [
    "class num:\n",
    "     x = 20 #attribute optional \n",
    "     def display(self):\n",
    "          print(10)\n",
    "\n",
    "num1 = num()\n",
    "num1.display()\n",
    "num1.x\n",
    "\n",
    "class student:\n",
    "     name = \"Krish\"\n",
    "     age = 19\n",
    "     def display(self):\n",
    "          print(f\"Name: {self.name}\")\n",
    "\n",
    "\n",
    "std1 = student()\n",
    "std1.display()"
   ]
  },
  {
   "cell_type": "code",
   "execution_count": null,
   "metadata": {},
   "outputs": [
    {
     "name": "stdout",
     "output_type": "stream",
     "text": [
      "Name is: Krish \n",
      "Roll no is: 5\n",
      "Address is: Earth\n"
     ]
    }
   ],
   "source": [
    "class Student:\n",
    "     def __init__(self):\n",
    "          self.name = input(\"Enter a name \")\n",
    "          self.roll = int(input(\"Enter a roll no.\"))\n",
    "          self.address = input(\"Enter a address \")\n",
    "\n",
    "     def display(self):\n",
    "          print(f\"Name is: {self.name}\")\n",
    "          print(f\"Roll no is: {self.roll}\")\n",
    "          print(f\"Address is: {self.address}\")\n",
    "\n",
    "std1=Student()\n",
    "\n",
    "# std1.put()\n",
    "std1.display()"
   ]
  },
  {
   "cell_type": "markdown",
   "metadata": {},
   "source": [
    "# Constructor and Destructors \n",
    "__init__ = A special method called when an object created to initialize attributes.\n",
    "\n",
    "__del__  = A special method called when an object is deleted or goes out of scope (used to release resources)."
   ]
  },
  {
   "cell_type": "code",
   "execution_count": null,
   "metadata": {},
   "outputs": [
    {
     "name": "stdout",
     "output_type": "stream",
     "text": [
      "Buddy\n",
      "Golden Retriver\n"
     ]
    }
   ],
   "source": [
    "class Dog:\n",
    "     def __init__(self, name, breed):\n",
    "          self.name = name \n",
    "          self.breed = breed\n",
    "\n",
    "my_dog = Dog(\"Buddy\", \"Golden Retriver\")\n",
    "print(my_dog.name)\n",
    "print(my_dog.breed)"
   ]
  },
  {
   "cell_type": "code",
   "execution_count": 35,
   "metadata": {},
   "outputs": [
    {
     "name": "stdout",
     "output_type": "stream",
     "text": [
      "Constructor Called!\n",
      "Destructor Called!\n"
     ]
    }
   ],
   "source": [
    "class example:\n",
    "     def __init__(self, value):\n",
    "          self.value = value \n",
    "          print(\"Constructor Called!\")\n",
    "\n",
    "     def __del__(self):\n",
    "          print(\"Destructor Called!\")\n",
    "\n",
    "obj = example(55)\n",
    "del obj "
   ]
  },
  {
   "cell_type": "markdown",
   "metadata": {},
   "source": [
    "# Inheritance"
   ]
  },
  {
   "cell_type": "code",
   "execution_count": 20,
   "metadata": {},
   "outputs": [
    {
     "name": "stdout",
     "output_type": "stream",
     "text": [
      "Dog barks\n",
      "Bird chirps\n"
     ]
    }
   ],
   "source": [
    "class animal:\n",
    "     def sounds(self):\n",
    "         print(\"animal sounds\")\n",
    "\n",
    "class Bird(animal):\n",
    "     def sounds(self):\n",
    "          print(\"Bird chirps\")\n",
    "\n",
    "class Dog(animal):\n",
    "     def barks(self):\n",
    "          print(\"Dog barks\")\n",
    "\n",
    "obj = Dog()\n",
    "obj.barks()\n",
    "\n",
    "klj = Bird()\n",
    "klj.sounds()\n",
    "    \n"
   ]
  },
  {
   "cell_type": "code",
   "execution_count": null,
   "metadata": {},
   "outputs": [
    {
     "name": "stdout",
     "output_type": "stream",
     "text": [
      "Alice's salary is None.\n"
     ]
    }
   ],
   "source": [
    "class Employee:\n",
    "     def __init__(self, name):\n",
    "          self.name = name\n",
    "          self.__salary = 0\n",
    "     \n",
    "     def set__salary(self, salary):\n",
    "          if salary > 0:\n",
    "               self.__salary = salary\n",
    "          else:\n",
    "               print(\"Salary must be positive\")\n",
    "\n",
    "     def get_salary(self):\n",
    "          return self.__salary\n",
    "     \n",
    "# Create an object \n",
    "employee = Employee(\"Alice\")\n",
    "employee.set__salary(5000)\n",
    "print(f\"{employee.name}'s salary is {employee.set__salary(5000)}.\")\n",
    "\n"
   ]
  },
  {
   "cell_type": "code",
   "execution_count": 25,
   "metadata": {},
   "outputs": [
    {
     "name": "stdout",
     "output_type": "stream",
     "text": [
      "Addition 15\n",
      "Subtraction 5\n",
      "Multiplication 50\n",
      "Division 2.0\n"
     ]
    }
   ],
   "source": [
    "class Calculator:\n",
    "     def add(self, a, b):\n",
    "\n",
    "          return a + b \n",
    "     \n",
    "     def subtract(self, a, b):\n",
    "          return a - b\n",
    "     \n",
    "     def multiply(self, a, b):\n",
    "          return a * b\n",
    "     \n",
    "     def divide(self, a, b):\n",
    "          if b != 0:\n",
    "               return a / b\n",
    "          else:\n",
    "               return \"Cannot divide by zero!\"\n",
    "          \n",
    "     # Create an object \n",
    "calc = Calculator()\n",
    "\n",
    "print(\"Addition\", calc.add(10, 5))\n",
    "print(\"Subtraction\", calc.subtract(10, 5))\n",
    "print(\"Multiplication\", calc.multiply(10, 5))\n",
    "print(\"Division\", calc.divide(10, 5))\n",
    "\n",
    "     \n"
   ]
  },
  {
   "cell_type": "code",
   "execution_count": 30,
   "metadata": {},
   "outputs": [
    {
     "name": "stdout",
     "output_type": "stream",
     "text": [
      "Rntime Error : division by zero\n"
     ]
    }
   ],
   "source": [
    "try:\n",
    "     result = 10 / 0\n",
    "except ZeroDivisionError as e:\n",
    "     print(f\"Rntime Error : {e}\")"
   ]
  },
  {
   "cell_type": "code",
   "execution_count": null,
   "metadata": {},
   "outputs": [],
   "source": []
  }
 ],
 "metadata": {
  "kernelspec": {
   "display_name": "Python 3",
   "language": "python",
   "name": "python3"
  },
  "language_info": {
   "codemirror_mode": {
    "name": "ipython",
    "version": 3
   },
   "file_extension": ".py",
   "mimetype": "text/x-python",
   "name": "python",
   "nbconvert_exporter": "python",
   "pygments_lexer": "ipython3",
   "version": "3.13.1"
  }
 },
 "nbformat": 4,
 "nbformat_minor": 2
}
