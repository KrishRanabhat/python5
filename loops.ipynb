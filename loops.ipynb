{
 "cells": [
  {
   "cell_type": "code",
   "execution_count": 4,
   "metadata": {},
   "outputs": [
    {
     "name": "stdout",
     "output_type": "stream",
     "text": [
      "0\n",
      "1\n",
      "2\n",
      "3\n",
      "4\n"
     ]
    }
   ],
   "source": [
    "#syntax: range(start, stop, step)\n",
    "# examples of range()\n",
    "\n",
    "#basic usage\n",
    "\n",
    "for i in range (5):\n",
    "     print(i)\n",
    "     "
   ]
  },
  {
   "cell_type": "code",
   "execution_count": 2,
   "metadata": {},
   "outputs": [
    {
     "name": "stdout",
     "output_type": "stream",
     "text": [
      "10\n",
      "9\n",
      "8\n",
      "7\n",
      "6\n",
      "5\n",
      "4\n",
      "3\n",
      "2\n",
      "1\n"
     ]
    }
   ],
   "source": [
    "for i in range(10, 0, -1):\n",
    "     print(i)\n"
   ]
  },
  {
   "cell_type": "code",
   "execution_count": 5,
   "metadata": {},
   "outputs": [
    {
     "name": "stdout",
     "output_type": "stream",
     "text": [
      "name: Alice\n",
      "Age: 21\n",
      "grade: A\n"
     ]
    }
   ],
   "source": [
    "student = {\"name\": \"Alice\", \"Age\": 21, \"grade\": \"A\"}\n",
    "for key, value in student.items():\n",
    "     print(f\"{key}: {value}\")\n"
   ]
  },
  {
   "cell_type": "code",
   "execution_count": 7,
   "metadata": {},
   "outputs": [
    {
     "name": "stdout",
     "output_type": "stream",
     "text": [
      "1\n",
      "2\n",
      "3\n",
      "4\n",
      "5\n"
     ]
    }
   ],
   "source": [
    "# While condition\n",
    "# Print numbers from 1 to 5\n",
    "\n",
    "num = 1\n",
    "while num <= 5:\n",
    "     print(num)\n",
    "     num += 1    #increment to avoid infinite loop\n"
   ]
  },
  {
   "cell_type": "code",
   "execution_count": 8,
   "metadata": {},
   "outputs": [
    {
     "name": "stdout",
     "output_type": "stream",
     "text": [
      "0\n",
      "1\n",
      "2\n",
      "3\n",
      "4\n"
     ]
    }
   ],
   "source": [
    "# \"break\" is used to exit the loop, and continue is used to skip the currrent iteration\n",
    "for i in range(10):\n",
    "     if i  == 5:\n",
    "          break \n",
    "     print (i) #stops printing when i is 5"
   ]
  },
  {
   "cell_type": "code",
   "execution_count": 10,
   "metadata": {},
   "outputs": [
    {
     "name": "stdout",
     "output_type": "stream",
     "text": [
      "1\n",
      "3\n",
      "5\n",
      "7\n",
      "9\n"
     ]
    }
   ],
   "source": [
    "# Continue example\n",
    "for i in range(10):\n",
    "     if i % 2 == 0:\n",
    "       continue\n",
    "     print (i)"
   ]
  },
  {
   "cell_type": "code",
   "execution_count": null,
   "metadata": {},
   "outputs": [
    {
     "name": "stdout",
     "output_type": "stream",
     "text": [
      "Hello World\n",
      "Hello World\n",
      "Hello World\n",
      "Hello World\n",
      "Hello World\n"
     ]
    }
   ],
   "source": [
    "count = 1\n",
    "while count <= 5:\n",
    "     count = count + 1  \n",
    "     print(\"Hello World\")  "
   ]
  },
  {
   "cell_type": "code",
   "execution_count": 14,
   "metadata": {},
   "outputs": [
    {
     "name": "stdout",
     "output_type": "stream",
     "text": [
      "i: 0, j: 0\n",
      "i: 0, j: 1\n",
      "i: 1, j: 0\n",
      "i: 1, j: 1\n",
      "i: 2, j: 0\n",
      "i: 2, j: 1\n"
     ]
    }
   ],
   "source": [
    "# Nested Loops \n",
    "# You can nest one loop inside another\n",
    "\n",
    "for i in range(3):\n",
    "     for j in range(2):\n",
    "          print(f\"i: {i}, j: {j}\")\n"
   ]
  },
  {
   "cell_type": "code",
   "execution_count": 24,
   "metadata": {},
   "outputs": [
    {
     "name": "stdout",
     "output_type": "stream",
     "text": [
      "0\n",
      "1\n",
      "2\n",
      "Loop completed without break.\n"
     ]
    }
   ],
   "source": [
    "# Loop with else Block\n",
    "# An else block executes only if the loop completes normally (i.e without break).\n",
    "\n",
    "for i in range(3):\n",
    "     if i == 3:\n",
    "          break\n",
    "     print(i)\n",
    "else:\n",
    "     print(\"Loop completed without break.\") #This wont print"
   ]
  },
  {
   "cell_type": "code",
   "execution_count": 15,
   "metadata": {},
   "outputs": [
    {
     "name": "stdout",
     "output_type": "stream",
     "text": [
      "2\n",
      "4\n",
      "6\n",
      "8\n",
      "10\n"
     ]
    }
   ],
   "source": [
    "#loop to print only even numbers from 1 to 10\n",
    "for i in range(1,11):\n",
    "     if i % 2 == 0:\n",
    "          print(i)"
   ]
  },
  {
   "cell_type": "code",
   "execution_count": 1,
   "metadata": {},
   "outputs": [
    {
     "name": "stdout",
     "output_type": "stream",
     "text": [
      "Sum of numbers from 1 to 100: 5050\n"
     ]
    }
   ],
   "source": [
    "# Using a for loop to calculate the sum of numbers from 1 to 100\n",
    "total_sum = 0\n",
    "for i in range(1, 101): #range is from 1 to 100\n",
    "     total_sum += i\n",
    "print(\"Sum of numbers from 1 to 100:\",total_sum)"
   ]
  },
  {
   "cell_type": "code",
   "execution_count": null,
   "metadata": {},
   "outputs": [
    {
     "name": "stdout",
     "output_type": "stream",
     "text": [
      "Welcome to the number Guessing game!\n",
      "Congratulations! You guessed it right.\n"
     ]
    }
   ],
   "source": [
    "# number Guessing game\n",
    "import random \n",
    "\n",
    "# step 1: Welcome message \n",
    "print(\"Welcome to the number Guessing game!\")\n",
    "\n",
    "# Step 2 : Generate random number \n",
    "number_to_guess = random.randint(1,10)\n",
    "\n",
    "# Step 3 : Loop for the guesses\n",
    "for attempt in range(3):\n",
    "     guess = int(input(\"Guess a number between 1 and 10: \"))\n",
    "     if guess == number_to_guess:\n",
    "          print(\"Congratulations! You guessed it right.\")\n",
    "          break \n",
    "     elif guess < number_to_guess:\n",
    "          print(\"Too low!\")\n",
    "     else:\n",
    "          print(\"Too high!\")\n",
    "else:\n",
    "     print(f\"Sorry, The correct answer was {number_to_guess}.\")\n"
   ]
  },
  {
   "cell_type": "code",
   "execution_count": 1,
   "metadata": {},
   "outputs": [
    {
     "name": "stdout",
     "output_type": "stream",
     "text": [
      "[1, 2, 3, 4, 5, 6]\n",
      "2\n",
      "[1, 2, 3, 4, 5, 6, 6]\n",
      "[1, 2, 4, 5, 6, 6]\n",
      "[1, 2, 4, 5, 6]\n",
      "[1, 2, 4, 5, 6]\n",
      "[6, 5, 4, 2, 1]\n",
      "2\n",
      "[6, 5, 4, 2, 1]\n",
      "[1, 2, 3, 4, 5, 'name']\n"
     ]
    }
   ],
   "source": [
    "list_example = [1, 2, 3, 4, 5, 6,]\n",
    "print(list_example)\n",
    "print(list_example.index(3))\n",
    "\n",
    "list_example.append(6)  # Adds an element at the end\n",
    "print(list_example)\n",
    "\n",
    "list_example.remove(3)  # Removes the first occurence of an element\n",
    "print(list_example)\n",
    "\n",
    "list_example.pop()      # Removes the last element and returns it\n",
    "print(list_example)\n",
    "\n",
    "list_example.sort()     # Sorts the list in ascending order \n",
    "print(list_example)\n",
    "\n",
    "list_example.reverse()     # Reverses the list\n",
    "print(list_example)\n",
    "\n",
    "index = list_example.index(4)\n",
    "print(index)  #Finds the index of the element (returns the first index)\n",
    "print(list_example)\n",
    "\n",
    "list_example = [1, 2, 3, 4, 5, \"name\"]\n",
    "print(list_example) "
   ]
  },
  {
   "cell_type": "code",
   "execution_count": null,
   "metadata": {},
   "outputs": [
    {
     "name": "stdout",
     "output_type": "stream",
     "text": [
      "Indexing Example:\n",
      "First element: 50\n",
      "Last element: 50\n",
      "\n",
      "Slicing Example:\n",
      "Elements from index 1 to 3: [20, 30, 40]\n",
      "Elements from beginning to index 2: [10, 20, 30]\n",
      "Elements from index 2 to the end: [30, 40, 50]\n",
      "\n",
      "Length Example\n",
      "Length of the list: 5\n"
     ]
    }
   ],
   "source": [
    "# Operations on list:\n",
    "\n",
    "# 1. Indexing Acessing individual elements of a list by their position (index)\n",
    "list_example = [10, 20, 30, 40, 50]\n",
    "print(\"Indexing Example:\")\n",
    "print(\"First element:\", list_example[4]) # Output: 10\n",
    "print(\"Last element:\", list_example[-1]) # Output: 50\n",
    "\n",
    "# 2. Slicing: Extracting a portion of the list by specifying a start and index \n",
    "print(\"\\nSlicing Example:\")\n",
    "\n",
    "print(\"Elements from index 1 to 3:\", list_example[1:4])  # Output: [20, 30, 40]\n",
    "print(\"Elements from beginning to index 2:\", list_example[:3]) # Output: [10,20,30]\n",
    "print(\"Elements from index 2 to the end:\", list_example[2:]) # Output [30, 40, 50]\n",
    "\n",
    "# 3. Length: Getting the number of elements in the list using the len() function\n",
    "print(\"\\nLength Example\")\n",
    "print(\"Length of the list:\", len(list_example))  # Output: 5 "
   ]
  },
  {
   "cell_type": "code",
   "execution_count": null,
   "metadata": {},
   "outputs": [
    {
     "name": "stdout",
     "output_type": "stream",
     "text": [
      "{1, 2, 3, 4, 5}\n",
      "{1, 2, 3, 4, 5, 6}\n",
      "{1, 2, 4, 5, 6}\n",
      "{1, 2, 4, 5, 6}\n",
      "{4, 5, 6}\n",
      "{1, 2, 4, 5, 6, 7}\n"
     ]
    }
   ],
   "source": [
    "set_example = {1, 2, 3, 4, 5}\n",
    "print(set_example)\n",
    "\n",
    "set_example.add(6)  # Adds an element\n",
    "print(set_example)\n",
    "\n",
    "set_example.remove(3)  # Removes an element \n",
    "print(set_example)\n",
    "\n",
    "set_example.discard(7)  # Removes an element, does nothiing if the element is not found \n",
    "print(set_example)\n",
    "\n",
    "intersection = set_example.intersection({4, 5, 6})\n",
    "print(intersection)\n",
    "\n",
    "union = set_example.union({6,7})    # Returns all elements from both sides\n",
    "print(union)\n"
   ]
  },
  {
   "cell_type": "code",
   "execution_count": 10,
   "metadata": {},
   "outputs": [
    {
     "name": "stdout",
     "output_type": "stream",
     "text": [
      "{'name': 'Alice', 'age': 25}\n",
      "{'name': 'Alice', 'age': 25, 'city': 'New York'}\n",
      "25\n",
      "25\n",
      "{'name': 'Alice', 'city': 'New York'}\n",
      "dict_keys(['name', 'city'])\n",
      "dict_values(['Alice', 'New York'])\n"
     ]
    }
   ],
   "source": [
    "dict_example = {\"name\": \"Alice\", \"age\": 25}\n",
    "print(dict_example)\n",
    "\n",
    "dict_example[\"city\"] = \"New York\"   # Adds a new key-value pair\n",
    "print(dict_example)\n",
    "\n",
    "print(dict_example.get(\"age\"))    # Retrives the value associated with a key\n",
    "print(dict_example.pop(\"age\"))    # Removes a key-value pair\n",
    "\n",
    "print(dict_example)\n",
    "print(dict_example.keys())        # Returns a view of all keys\n",
    "print(dict_example.values())        # Returns a view of all values\n"
   ]
  },
  {
   "cell_type": "code",
   "execution_count": 15,
   "metadata": {},
   "outputs": [
    {
     "name": "stdout",
     "output_type": "stream",
     "text": [
      "Hello\n"
     ]
    }
   ],
   "source": [
    "#function definition and calling \n",
    "\n",
    "def my_function():\n",
    "     print(\"Hello\")\n",
    "\n",
    "my_function()"
   ]
  },
  {
   "cell_type": "markdown",
   "metadata": {},
   "source": [
    "# Example 1: Basic funtion \n",
    "\n",
    "Positional Arguments Definition: Arguments are passed in the order in which parameters are defined in the function.\n",
    "\n"
   ]
  },
  {
   "cell_type": "code",
   "execution_count": null,
   "metadata": {},
   "outputs": [
    {
     "name": "stdout",
     "output_type": "stream",
     "text": [
      "Hello, Alice!\n"
     ]
    }
   ],
   "source": [
    "def greet(name):\n",
    "     mess = f\"Hello, {name}!\"\n",
    "     return mess \n",
    "\n",
    "# Calling the function \n",
    "message = greet(\"Alice\")\n",
    "print(message)       # Hello Alice "
   ]
  },
  {
   "cell_type": "markdown",
   "metadata": {},
   "source": [
    "# Function with Multiple parameters "
   ]
  },
  {
   "cell_type": "code",
   "execution_count": null,
   "metadata": {},
   "outputs": [
    {
     "name": "stdout",
     "output_type": "stream",
     "text": [
      "12\n",
      "17\n"
     ]
    }
   ],
   "source": [
    "\n",
    "def add_numbers(a, b):\n",
    "     c = a + b\n",
    "     return c\n",
    " \n",
    "# Calling the function \n",
    "result = add_numbers(5, 7)\n",
    "print(result)     # Output: 12\n",
    " \n",
    "result2 = add_numbers(8,9)\n",
    "print(result2)"
   ]
  },
  {
   "cell_type": "markdown",
   "metadata": {},
   "source": [
    "# Function with default Arguments"
   ]
  },
  {
   "cell_type": "code",
   "execution_count": null,
   "metadata": {},
   "outputs": [
    {
     "name": "stdout",
     "output_type": "stream",
     "text": [
      "Hello, User!\n",
      "Hello, User!\n",
      "Hello, Krish!\n"
     ]
    }
   ],
   "source": [
    " \n",
    "def greet(name= \"User\"):\n",
    "     c = f\"Hello, {name}!\"\n",
    "     return c \n",
    "\n",
    "# Calling the function without argument \n",
    "\n",
    "\n",
    "message = greet()\n",
    "print(message)\n",
    "print(greet())\n",
    "\n",
    "message2 = greet(\"Krish\")\n",
    "print(message2)\n",
    "\n"
   ]
  },
  {
   "cell_type": "markdown",
   "metadata": {},
   "source": [
    "# Example 4: Function using Keyword Argument"
   ]
  },
  {
   "cell_type": "markdown",
   "metadata": {},
   "source": [
    "# Function without a return statement"
   ]
  },
  {
   "cell_type": "code",
   "execution_count": null,
   "metadata": {},
   "outputs": [
    {
     "name": "stdout",
     "output_type": "stream",
     "text": [
      "Hello World!\n"
     ]
    }
   ],
   "source": [
    "\n",
    "\n",
    "def display_message(message):\n",
    "     \"\"\"\n",
    "     Display a message. Does not return anything. \n",
    "     \"\"\"\n",
    "     print(message)\n",
    "\n",
    "     # Calling the function\n",
    "display_message(\"Hello World!\")\n",
    "     # Output: Hello world\n",
    "\n"
   ]
  },
  {
   "cell_type": "markdown",
   "metadata": {},
   "source": [
    "# Reverse\n"
   ]
  },
  {
   "cell_type": "code",
   "execution_count": 1,
   "metadata": {},
   "outputs": [
    {
     "name": "stdout",
     "output_type": "stream",
     "text": [
      " The reverse of 'apple' is elppa .\n"
     ]
    }
   ],
   "source": [
    "def reverse_string():\n",
    "     s =  input(\"Enter a string to reverse : \")\n",
    "     reversed_str = \" \"\n",
    "     for char in s:\n",
    "          reversed_str = char + reversed_str \n",
    "     print(f\" The reverse of '{s}' is {reversed_str}.\")\n",
    "\n",
    "reverse_string()"
   ]
  },
  {
   "cell_type": "markdown",
   "metadata": {},
   "source": [
    "## Lambda function"
   ]
  },
  {
   "cell_type": "code",
   "execution_count": 1,
   "metadata": {},
   "outputs": [
    {
     "name": "stdout",
     "output_type": "stream",
     "text": [
      "[2, 6, 10]\n"
     ]
    }
   ],
   "source": [
    "numbers = [1, 2, 3, 4, 5]\n",
    "\n",
    "# Filter odd numbers, then double them\n",
    "odd_doubled = list(map(lambda x: x * 2, filter(lambda x: x % 2 != 0, numbers)))\n",
    "print(odd_doubled)  # Output: [2, 6, 10]"
   ]
  },
  {
   "cell_type": "code",
   "execution_count": 3,
   "metadata": {},
   "outputs": [
    {
     "name": "stdout",
     "output_type": "stream",
     "text": [
      "[4, 8]\n"
     ]
    }
   ],
   "source": [
    "numbers = [1, 2, 3, 4, 5]\n",
    "\n",
    "# Filter odd numbers, then double them\n",
    "odd_doubled = list(map(lambda x: x * 2, filter(lambda x: x % 2 == 0, numbers)))\n",
    "print(odd_doubled)  # Output: [2, 6, 10]"
   ]
  },
  {
   "cell_type": "code",
   "execution_count": null,
   "metadata": {},
   "outputs": [],
   "source": []
  }
 ],
 "metadata": {
  "kernelspec": {
   "display_name": "Python 3",
   "language": "python",
   "name": "python3"
  },
  "language_info": {
   "codemirror_mode": {
    "name": "ipython",
    "version": 3
   },
   "file_extension": ".py",
   "mimetype": "text/x-python",
   "name": "python",
   "nbconvert_exporter": "python",
   "pygments_lexer": "ipython3",
   "version": "3.13.1"
  }
 },
 "nbformat": 4,
 "nbformat_minor": 2
}
